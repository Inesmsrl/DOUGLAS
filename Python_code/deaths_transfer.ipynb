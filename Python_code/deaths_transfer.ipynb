{
 "cells": [
  {
   "cell_type": "markdown",
   "metadata": {},
   "source": [
    "## Imports"
   ]
  },
  {
   "cell_type": "code",
   "execution_count": 1,
   "metadata": {},
   "outputs": [],
   "source": [
    "import numpy as np\n",
    "import matplotlib.pyplot as plt"
   ]
  },
  {
   "cell_type": "code",
   "execution_count": 3,
   "metadata": {},
   "outputs": [],
   "source": [
    "# Read data_deaths.csv\n",
    "data = np.genfromtxt('/Users/imasurel/Documents/DOUGLAS/results/Observed_to_Optimized/meat3/MR/pop_data.csv', delimiter=',', skip_header=1)"
   ]
  },
  {
   "cell_type": "code",
   "execution_count": 4,
   "metadata": {},
   "outputs": [],
   "source": [
    "# Parameters\n",
    "sim_min = min(data[:,3])\n",
    "sim_max = max(data[:,3])\n",
    "\n",
    "years_min = min(data[:,1])\n",
    "years_max = max(data[:,1])\n",
    "\n",
    "age_min = min(data[:,0])\n",
    "age_max = max(data[:,0])\n",
    "\n",
    "sim = int(sim_max-sim_min+1)\n",
    "ages = int(age_max-age_min+1)\n",
    "years = int(years_max-years_min+1)\n",
    "\n",
    "age0 = data[0,0]\n",
    "\n",
    "scen = 0\n",
    "\n",
    "while data[scen,0] == age0:\n",
    "    scen += 1"
   ]
  },
  {
   "cell_type": "code",
   "execution_count": 5,
   "metadata": {},
   "outputs": [],
   "source": [
    "# Création de tableaux pour chaque variable, à 4 dimensions (nb de paramètres)\n",
    "population=np.zeros((sim, years, ages, scen))\n",
    "deaths=np.zeros((sim, years, ages, scen))\n",
    "adjusted_mr=np.zeros((sim, years, ages, scen))\n",
    "avoided_deaths=np.zeros((sim, years, ages, scen))\n",
    "\n",
    "for i in range(sim):\n",
    "    for j in range(years):\n",
    "        for k in range(ages):\n",
    "            for l in range(scen):\n",
    "                population[i,j,k,l]=data[i*years*ages*scen+j*ages*scen+k*scen+l,scen]\n",
    "                adjusted_mr[i,j,k,l]=data[i*years*ages*scen+j*ages*scen+k*scen+l,4]"
   ]
  },
  {
   "cell_type": "code",
   "execution_count": 6,
   "metadata": {},
   "outputs": [
    {
     "name": "stdout",
     "output_type": "stream",
     "text": [
      "0.000244775248888769\n"
     ]
    }
   ],
   "source": [
    "# Adjusted MR (sim 930, 2050, 21 yo, S1)\n",
    "print(adjusted_mr[929,2050-2005,21-18,1])\n",
    "\n",
    "# 0.000179815447603017"
   ]
  },
  {
   "cell_type": "code",
   "execution_count": 7,
   "metadata": {},
   "outputs": [],
   "source": [
    "for y in range(years):\n",
    "    for a in range(ages):\n",
    "        for b in range(scen):\n",
    "            deaths[:,y,a,b]=population[:,y,a,b]*adjusted_mr[:,y,a,b]\n",
    "            avoided_deaths[:,y,a,b]=deaths[:,y,a,0]-deaths[:,y,a,b]\n",
    "            if a==87 and y!=65:\n",
    "                population[:,y+1,a,b]+=avoided_deaths[:,y,a,b]\n",
    "            elif y!=65:\n",
    "                population[:,y+1,a+1,b]+=avoided_deaths[:,y,a,b]"
   ]
  },
  {
   "cell_type": "code",
   "execution_count": 8,
   "metadata": {},
   "outputs": [
    {
     "name": "stdout",
     "output_type": "stream",
     "text": [
      "nan\n",
      "nan\n"
     ]
    }
   ],
   "source": [
    "# Avoided deaths (sim 930, 2050, 21 yo, S1)\n",
    "print(avoided_deaths[929,2050-2005,21-18,1])\n",
    "# 26.716335424years506\n",
    "\n",
    "# Population (sim 930, 2050, 21 yo, S1)\n",
    "print(population[929,2050-2005,21-18,1])\n",
    "# 718979.7445031392"
   ]
  },
  {
   "cell_type": "code",
   "execution_count": 9,
   "metadata": {},
   "outputs": [
    {
     "ename": "IndexError",
     "evalue": "index 2 is out of bounds for axis 3 with size 2",
     "output_type": "error",
     "traceback": [
      "\u001b[0;31m---------------------------------------------------------------------------\u001b[0m",
      "\u001b[0;31mIndexError\u001b[0m                                Traceback (most recent call last)",
      "Cell \u001b[0;32mIn[9], line 5\u001b[0m\n\u001b[1;32m      3\u001b[0m plt\u001b[38;5;241m.\u001b[39mplot(year, np\u001b[38;5;241m.\u001b[39msum(deaths[\u001b[38;5;241m0\u001b[39m,:,:,\u001b[38;5;241m1\u001b[39m],axis\u001b[38;5;241m=\u001b[39m\u001b[38;5;241m1\u001b[39m), label\u001b[38;5;241m=\u001b[39m\u001b[38;5;124m'\u001b[39m\u001b[38;5;124mDeaths\u001b[39m\u001b[38;5;124m'\u001b[39m, color\u001b[38;5;241m=\u001b[39m\u001b[38;5;124m'\u001b[39m\u001b[38;5;124mtab:orange\u001b[39m\u001b[38;5;124m'\u001b[39m)\n\u001b[1;32m      4\u001b[0m plt\u001b[38;5;241m.\u001b[39mplot(year, np\u001b[38;5;241m.\u001b[39msum(avoided_deaths[\u001b[38;5;241m0\u001b[39m,:,:,\u001b[38;5;241m1\u001b[39m],axis\u001b[38;5;241m=\u001b[39m\u001b[38;5;241m1\u001b[39m), label\u001b[38;5;241m=\u001b[39m\u001b[38;5;124m'\u001b[39m\u001b[38;5;124mAvoided deaths\u001b[39m\u001b[38;5;124m'\u001b[39m, color\u001b[38;5;241m=\u001b[39m\u001b[38;5;124m'\u001b[39m\u001b[38;5;124mtab:green\u001b[39m\u001b[38;5;124m'\u001b[39m)\n\u001b[0;32m----> 5\u001b[0m plt\u001b[38;5;241m.\u001b[39mplot(year, np\u001b[38;5;241m.\u001b[39msum(\u001b[43mpopulation\u001b[49m\u001b[43m[\u001b[49m\u001b[38;5;241;43m0\u001b[39;49m\u001b[43m,\u001b[49m\u001b[43m:\u001b[49m\u001b[43m,\u001b[49m\u001b[43m:\u001b[49m\u001b[43m,\u001b[49m\u001b[38;5;241;43m2\u001b[39;49m\u001b[43m]\u001b[49m,axis\u001b[38;5;241m=\u001b[39m\u001b[38;5;241m1\u001b[39m), label\u001b[38;5;241m=\u001b[39m\u001b[38;5;124m'\u001b[39m\u001b[38;5;124mPopulation\u001b[39m\u001b[38;5;124m'\u001b[39m, color\u001b[38;5;241m=\u001b[39m\u001b[38;5;124m'\u001b[39m\u001b[38;5;124mtab:blue\u001b[39m\u001b[38;5;124m'\u001b[39m, linestyle\u001b[38;5;241m=\u001b[39m\u001b[38;5;124m'\u001b[39m\u001b[38;5;124mdashed\u001b[39m\u001b[38;5;124m'\u001b[39m)\n\u001b[1;32m      6\u001b[0m plt\u001b[38;5;241m.\u001b[39mplot(year, np\u001b[38;5;241m.\u001b[39msum(deaths[\u001b[38;5;241m0\u001b[39m,:,:,\u001b[38;5;241m2\u001b[39m],axis\u001b[38;5;241m=\u001b[39m\u001b[38;5;241m1\u001b[39m), label\u001b[38;5;241m=\u001b[39m\u001b[38;5;124m'\u001b[39m\u001b[38;5;124mDeaths\u001b[39m\u001b[38;5;124m'\u001b[39m, color\u001b[38;5;241m=\u001b[39m\u001b[38;5;124m'\u001b[39m\u001b[38;5;124mtab:orange\u001b[39m\u001b[38;5;124m'\u001b[39m, linestyle\u001b[38;5;241m=\u001b[39m\u001b[38;5;124m'\u001b[39m\u001b[38;5;124mdashed\u001b[39m\u001b[38;5;124m'\u001b[39m)\n\u001b[1;32m      7\u001b[0m plt\u001b[38;5;241m.\u001b[39mplot(year, np\u001b[38;5;241m.\u001b[39msum(avoided_deaths[\u001b[38;5;241m0\u001b[39m,:,:,\u001b[38;5;241m2\u001b[39m],axis\u001b[38;5;241m=\u001b[39m\u001b[38;5;241m1\u001b[39m), label\u001b[38;5;241m=\u001b[39m\u001b[38;5;124m'\u001b[39m\u001b[38;5;124mAvoided deaths\u001b[39m\u001b[38;5;124m'\u001b[39m, color\u001b[38;5;241m=\u001b[39m\u001b[38;5;124m'\u001b[39m\u001b[38;5;124mtab:green\u001b[39m\u001b[38;5;124m'\u001b[39m, linestyle\u001b[38;5;241m=\u001b[39m\u001b[38;5;124m'\u001b[39m\u001b[38;5;124mdashed\u001b[39m\u001b[38;5;124m'\u001b[39m)\n",
      "\u001b[0;31mIndexError\u001b[0m: index 2 is out of bounds for axis 3 with size 2"
     ]
    },
    {
     "data": {
      "image/png": "[encoded data removed]",
      "text/plain": [
       "<Figure size 640x480 with 1 Axes>"
      ]
     },
     "metadata": {},
     "output_type": "display_data"
    }
   ],
   "source": [
    "year=np.arange(2005,2071)\n",
    "plt.plot(year, np.sum(population[0,:,:,1],axis=1), label='Population', color='tab:blue')\n",
    "plt.plot(year, np.sum(deaths[0,:,:,1],axis=1), label='Deaths', color='tab:orange')\n",
    "plt.plot(year, np.sum(avoided_deaths[0,:,:,1],axis=1), label='Avoided deaths', color='tab:green')\n",
    "plt.plot(year, np.sum(population[0,:,:,2],axis=1), label='Population', color='tab:blue', linestyle='dashed')\n",
    "plt.plot(year, np.sum(deaths[0,:,:,2],axis=1), label='Deaths', color='tab:orange', linestyle='dashed')\n",
    "plt.plot(year, np.sum(avoided_deaths[0,:,:,2],axis=1), label='Avoided deaths', color='tab:green', linestyle='dashed')\n",
    "plt.plot(year, np.sum(population[0,:,:,3],axis=1), label='Population', color='tab:blue', linestyle='dotted')\n",
    "plt.plot(year, np.sum(deaths[0,:,:,3],axis=1), label='Deaths', color='tab:orange', linestyle='dotted')\n",
    "plt.plot(year, np.sum(avoided_deaths[0,:,:,3],axis=1), label='Avoided deaths', color='tab:green', linestyle='dotted')\n",
    "plt.plot(year, np.sum(population[0,:,:,4],axis=1), label='Population', color='tab:blue', linestyle='dashdot')\n",
    "plt.plot(year, np.sum(deaths[0,:,:,4],axis=1), label='Deaths', color='tab:orange', linestyle='dashdot')\n",
    "plt.plot(year, np.sum(avoided_deaths[0,:,:,4],axis=1), label='Avoided deaths', color='tab:green', linestyle='dashdot')\n",
    "plt.xlabel('Year')\n",
    "plt.ylabel('Number of people')\n",
    "plt.title('Population, deaths and avoided deaths')\n",
    "plt.yscale('log')\n",
    "plt.legend()\n",
    "plt.show()\n"
   ]
  },
  {
   "cell_type": "code",
   "execution_count": 10,
   "metadata": {},
   "outputs": [],
   "source": [
    "f = open(\"data_python.csv\", \"w\") # ouverture du fichier en écriture\n",
    "f.write(\"age,year,scenario,simulation_id,adjusted_mr,population,deaths,avoided_deaths\\n\")\n",
    "\n",
    "for i in range(sim):\n",
    "    for y in range(years):\n",
    "        for a in range(ages):\n",
    "            for b in range(scen):\n",
    "                if b==0:\n",
    "                    f.write(str(a+age_min)+\",\"+str(y+years_min)+\",\"+\"actuel\"+\",\"+str(i+1)+\",\"+str(adjusted_mr[i,y,a,b])+\",\"+str(population[i,y,a,b])+\",\"+str(deaths[i,y,a,b])+\",\"+str(avoided_deaths[i,y,a,b])+\"\\n\")\n",
    "                else:\n",
    "                    f.write(str(a+age_min)+\",\"+str(y+years_min)+\",\"+\"sc\"+str(b)+\",\"+str(i+1)+\",\"+str(adjusted_mr[i,y,a,b])+\",\"+str(population[i,y,a,b])+\",\"+str(deaths[i,y,a,b])+\",\"+str(avoided_deaths[i,y,a,b])+\"\\n\")\n",
    "                \n",
    "f.close()"
   ]
  }
 ],
 "metadata": {
  "kernelspec": {
   "display_name": ".venv",
   "language": "python",
   "name": "python3"
  },
  "language_info": {
   "codemirror_mode": {
    "name": "ipython",
    "version": 3
   },
   "file_extension": ".py",
   "mimetype": "text/x-python",
   "name": "python",
   "nbconvert_exporter": "python",
   "pygments_lexer": "ipython3",
   "version": "3.9.6"
  }
 },
 "nbformat": 4,
 "nbformat_minor": 2
}
