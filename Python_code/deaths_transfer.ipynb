{
 "cells": [
  {
   "cell_type": "markdown",
   "metadata": {},
   "source": [
    "## Imports"
   ]
  },
  {
   "cell_type": "code",
   "execution_count": 1,
   "metadata": {},
   "outputs": [],
   "source": [
    "import numpy as np\n",
    "import matplotlib.pyplot as plt"
   ]
  },
  {
   "cell_type": "code",
   "execution_count": 2,
   "metadata": {},
   "outputs": [],
   "source": [
    "# Read pop_data.csv\n",
    "# This step can take up to 2-3 minutes\n",
    "data = np.genfromtxt('/Users/imasurel/Documents/DOUGLAS/results/MR/pop_data.csv', delimiter=',', skip_header=1)"
   ]
  },
  {
   "cell_type": "code",
   "execution_count": 3,
   "metadata": {},
   "outputs": [],
   "source": [
    "# Parameters\n",
    "sim_min = min(data[:,3])\n",
    "sim_max = max(data[:,3])\n",
    "\n",
    "years_min = min(data[:,1])\n",
    "years_max = max(data[:,1])\n",
    "\n",
    "age_min = min(data[:,0])\n",
    "age_max = max(data[:,0])\n",
    "\n",
    "sim = int(sim_max-sim_min+1)\n",
    "ages = int(age_max-age_min+1)\n",
    "years = int(years_max-years_min+1)\n",
    "\n",
    "age0 = data[0,0]\n",
    "\n",
    "scen = 0\n",
    "\n",
    "while data[scen,0] == age0:\n",
    "    scen += 1\n",
    "\n",
    "    "
   ]
  },
  {
   "cell_type": "code",
   "execution_count": null,
   "metadata": {},
   "outputs": [],
   "source": [
    "# Creation of tables for each variable, with 4 dimensions (number of parameters)\n",
    "population=np.zeros((sim, years, ages, scen))\n",
    "deaths=np.zeros((sim, years, ages, scen))\n",
    "adjusted_mr=np.zeros((sim, years, ages, scen))\n",
    "avoided_deaths=np.zeros((sim, years, ages, scen))\n",
    "\n",
    "for i in range(sim):\n",
    "    for j in range(years):\n",
    "        for k in range(ages):\n",
    "            for l in range(scen):\n",
    "                population[i,j,k,l]=data[i*years*ages*scen+j*ages*scen+k*scen+l,scen]\n",
    "                adjusted_mr[i,j,k,l]=data[i*years*ages*scen+j*ages*scen+k*scen+l,4]"
   ]
  },
  {
   "cell_type": "code",
   "execution_count": null,
   "metadata": {},
   "outputs": [],
   "source": [
    "# Prevented deaths of year n are added to the population of year n+1\n",
    "\n",
    "for y in range(years):\n",
    "    for a in range(ages):\n",
    "        for b in range(scen):\n",
    "            deaths[:,y,a,b]=population[:,y,a,b]*adjusted_mr[:,y,a,b]\n",
    "            avoided_deaths[:,y,a,b]=deaths[:,y,a,0]-deaths[:,y,a,b]\n",
    "            if a==87 and y!=65:\n",
    "                population[:,y+1,a,b]+=avoided_deaths[:,y,a,b]\n",
    "            elif y!=65:\n",
    "                population[:,y+1,a+1,b]+=avoided_deaths[:,y,a,b]"
   ]
  },
  {
   "cell_type": "code",
   "execution_count": 10,
   "metadata": {},
   "outputs": [],
   "source": [
    "# Data exportation\n",
    "# This step can take up to 2-3 minutes\n",
    "\n",
    "f = open(\"data_python.csv\", \"w\") # ouverture du fichier en écriture\n",
    "f.write(\"age,year,scenario,simulation_id,adjusted_mr,population,deaths,avoided_deaths\\n\")\n",
    "\n",
    "for i in range(sim):\n",
    "    for y in range(years):\n",
    "        for a in range(ages):\n",
    "            for b in range(scen):\n",
    "                if b==0:\n",
    "                    f.write(str(a+age_min)+\",\"+str(y+years_min)+\",\"+\"actuel\"+\",\"+str(i+1)+\",\"+str(adjusted_mr[i,y,a,b])+\",\"+str(population[i,y,a,b])+\",\"+str(deaths[i,y,a,b])+\",\"+str(avoided_deaths[i,y,a,b])+\"\\n\")\n",
    "                else:\n",
    "                    f.write(str(a+age_min)+\",\"+str(y+years_min)+\",\"+\"sc\"+str(b)+\",\"+str(i+1)+\",\"+str(adjusted_mr[i,y,a,b])+\",\"+str(population[i,y,a,b])+\",\"+str(deaths[i,y,a,b])+\",\"+str(avoided_deaths[i,y,a,b])+\"\\n\")\n",
    "                \n",
    "f.close()"
   ]
  }
 ],
 "metadata": {
  "kernelspec": {
   "display_name": ".venv",
   "language": "python",
   "name": "python3"
  },
  "language_info": {
   "codemirror_mode": {
    "name": "ipython",
    "version": 3
   },
   "file_extension": ".py",
   "mimetype": "text/x-python",
   "name": "python",
   "nbconvert_exporter": "python",
   "pygments_lexer": "ipython3",
   "version": "3.9.6"
  }
 },
 "nbformat": 4,
 "nbformat_minor": 2
}
